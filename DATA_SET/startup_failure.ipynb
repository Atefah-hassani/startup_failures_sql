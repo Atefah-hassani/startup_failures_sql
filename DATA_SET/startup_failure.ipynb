{
 "cells": [
  {
   "cell_type": "code",
   "execution_count": 1,
   "id": "16335f5e-5969-48ce-bcbd-2e3c5ea14ebf",
   "metadata": {},
   "outputs": [],
   "source": [
    "import pandas as pd"
   ]
  },
  {
   "cell_type": "code",
   "execution_count": 2,
   "id": "485ea661-1d3c-4234-bb3b-ea91ec88d51e",
   "metadata": {},
   "outputs": [],
   "source": [
    "startup_failures = pd.read_csv(r\"C:\\Users\\Atefah\\Desktop\\IRONHACK\\SQL_PROJECT\\DATA_SET\\Startup Failures.csv\")"
   ]
  },
  {
   "cell_type": "code",
   "execution_count": 3,
   "id": "87c1ad9e-5ca9-4eb1-a376-2da9b40e58d3",
   "metadata": {},
   "outputs": [
    {
     "data": {
      "text/html": [
       "<div>\n",
       "<style scoped>\n",
       "    .dataframe tbody tr th:only-of-type {\n",
       "        vertical-align: middle;\n",
       "    }\n",
       "\n",
       "    .dataframe tbody tr th {\n",
       "        vertical-align: top;\n",
       "    }\n",
       "\n",
       "    .dataframe thead th {\n",
       "        text-align: right;\n",
       "    }\n",
       "</style>\n",
       "<table border=\"1\" class=\"dataframe\">\n",
       "  <thead>\n",
       "    <tr style=\"text-align: right;\">\n",
       "      <th></th>\n",
       "      <th>Name</th>\n",
       "      <th>Sector</th>\n",
       "      <th>Years of Operation</th>\n",
       "    </tr>\n",
       "  </thead>\n",
       "  <tbody>\n",
       "    <tr>\n",
       "      <th>0</th>\n",
       "      <td>99dresses</td>\n",
       "      <td>Retail Trade</td>\n",
       "      <td>3 (2010-2013)</td>\n",
       "    </tr>\n",
       "    <tr>\n",
       "      <th>1</th>\n",
       "      <td>Ahalife</td>\n",
       "      <td>Retail Trade</td>\n",
       "      <td>7 (2010-2017)</td>\n",
       "    </tr>\n",
       "  </tbody>\n",
       "</table>\n",
       "</div>"
      ],
      "text/plain": [
       "        Name        Sector Years of Operation\n",
       "0  99dresses  Retail Trade      3 (2010-2013)\n",
       "1    Ahalife  Retail Trade      7 (2010-2017)"
      ]
     },
     "execution_count": 3,
     "metadata": {},
     "output_type": "execute_result"
    }
   ],
   "source": [
    "startup_failures.head(2)"
   ]
  },
  {
   "cell_type": "code",
   "execution_count": 4,
   "id": "643616ac-af29-4191-abde-243b805fab2d",
   "metadata": {},
   "outputs": [
    {
     "name": "stdout",
     "output_type": "stream",
     "text": [
      "Index(['name', 'sector', 'years_operation'], dtype='object')\n"
     ]
    }
   ],
   "source": [
    "startup_failures.rename(columns={\n",
    "    'Name': 'name',\n",
    "    'Sector': 'sector',\n",
    "    'Years of Operation': 'years_operation'\n",
    "}, inplace=True)\n",
    "\n",
    "print(startup_failures.columns)"
   ]
  },
  {
   "cell_type": "code",
   "execution_count": 5,
   "id": "0bb853ec-4510-4049-9531-46bb172af22a",
   "metadata": {},
   "outputs": [],
   "source": [
    "startup_failures[['start_year','end_year']] = startup_failures['years_operation'].str.split('-', expand=True)"
   ]
  },
  {
   "cell_type": "code",
   "execution_count": 6,
   "id": "3de2a298-14d8-49ba-9938-c95c6fa733e4",
   "metadata": {},
   "outputs": [
    {
     "data": {
      "text/html": [
       "<div>\n",
       "<style scoped>\n",
       "    .dataframe tbody tr th:only-of-type {\n",
       "        vertical-align: middle;\n",
       "    }\n",
       "\n",
       "    .dataframe tbody tr th {\n",
       "        vertical-align: top;\n",
       "    }\n",
       "\n",
       "    .dataframe thead th {\n",
       "        text-align: right;\n",
       "    }\n",
       "</style>\n",
       "<table border=\"1\" class=\"dataframe\">\n",
       "  <thead>\n",
       "    <tr style=\"text-align: right;\">\n",
       "      <th></th>\n",
       "      <th>name</th>\n",
       "      <th>sector</th>\n",
       "      <th>years_operation</th>\n",
       "      <th>start_year</th>\n",
       "      <th>end_year</th>\n",
       "    </tr>\n",
       "  </thead>\n",
       "  <tbody>\n",
       "    <tr>\n",
       "      <th>0</th>\n",
       "      <td>99dresses</td>\n",
       "      <td>Retail Trade</td>\n",
       "      <td>3 (2010-2013)</td>\n",
       "      <td>3 (2010</td>\n",
       "      <td>2013)</td>\n",
       "    </tr>\n",
       "    <tr>\n",
       "      <th>1</th>\n",
       "      <td>Ahalife</td>\n",
       "      <td>Retail Trade</td>\n",
       "      <td>7 (2010-2017)</td>\n",
       "      <td>7 (2010</td>\n",
       "      <td>2017)</td>\n",
       "    </tr>\n",
       "  </tbody>\n",
       "</table>\n",
       "</div>"
      ],
      "text/plain": [
       "        name        sector years_operation start_year end_year\n",
       "0  99dresses  Retail Trade   3 (2010-2013)    3 (2010    2013)\n",
       "1    Ahalife  Retail Trade   7 (2010-2017)    7 (2010    2017)"
      ]
     },
     "execution_count": 6,
     "metadata": {},
     "output_type": "execute_result"
    }
   ],
   "source": [
    "startup_failures.head(2)"
   ]
  },
  {
   "cell_type": "code",
   "execution_count": 7,
   "id": "16e3e980-3349-461f-80e4-7cce5ecf87f4",
   "metadata": {},
   "outputs": [],
   "source": [
    "startup_failures['start_year_cleaned'] = startup_failures['start_year'].str.extract(r'\\((\\d{4})')"
   ]
  },
  {
   "cell_type": "code",
   "execution_count": 8,
   "id": "d9649ab4-fce4-400d-85a4-8c588a2d7c18",
   "metadata": {},
   "outputs": [
    {
     "data": {
      "text/html": [
       "<div>\n",
       "<style scoped>\n",
       "    .dataframe tbody tr th:only-of-type {\n",
       "        vertical-align: middle;\n",
       "    }\n",
       "\n",
       "    .dataframe tbody tr th {\n",
       "        vertical-align: top;\n",
       "    }\n",
       "\n",
       "    .dataframe thead th {\n",
       "        text-align: right;\n",
       "    }\n",
       "</style>\n",
       "<table border=\"1\" class=\"dataframe\">\n",
       "  <thead>\n",
       "    <tr style=\"text-align: right;\">\n",
       "      <th></th>\n",
       "      <th>name</th>\n",
       "      <th>sector</th>\n",
       "      <th>years_operation</th>\n",
       "      <th>start_year</th>\n",
       "      <th>end_year</th>\n",
       "      <th>start_year_cleaned</th>\n",
       "    </tr>\n",
       "  </thead>\n",
       "  <tbody>\n",
       "    <tr>\n",
       "      <th>0</th>\n",
       "      <td>99dresses</td>\n",
       "      <td>Retail Trade</td>\n",
       "      <td>3 (2010-2013)</td>\n",
       "      <td>3 (2010</td>\n",
       "      <td>2013)</td>\n",
       "      <td>2010</td>\n",
       "    </tr>\n",
       "    <tr>\n",
       "      <th>1</th>\n",
       "      <td>Ahalife</td>\n",
       "      <td>Retail Trade</td>\n",
       "      <td>7 (2010-2017)</td>\n",
       "      <td>7 (2010</td>\n",
       "      <td>2017)</td>\n",
       "      <td>2010</td>\n",
       "    </tr>\n",
       "  </tbody>\n",
       "</table>\n",
       "</div>"
      ],
      "text/plain": [
       "        name        sector years_operation start_year end_year  \\\n",
       "0  99dresses  Retail Trade   3 (2010-2013)    3 (2010    2013)   \n",
       "1    Ahalife  Retail Trade   7 (2010-2017)    7 (2010    2017)   \n",
       "\n",
       "  start_year_cleaned  \n",
       "0               2010  \n",
       "1               2010  "
      ]
     },
     "execution_count": 8,
     "metadata": {},
     "output_type": "execute_result"
    }
   ],
   "source": [
    "startup_failures.head(2)"
   ]
  },
  {
   "cell_type": "code",
   "execution_count": 9,
   "id": "394b3b3e-7931-40a9-9c65-f1d14fd90206",
   "metadata": {},
   "outputs": [],
   "source": [
    "startup_failures.drop(columns=['start_year'], inplace=True)"
   ]
  },
  {
   "cell_type": "code",
   "execution_count": 10,
   "id": "89b2edd1-f197-42c5-9a6d-61e91135b4ba",
   "metadata": {},
   "outputs": [
    {
     "data": {
      "text/html": [
       "<div>\n",
       "<style scoped>\n",
       "    .dataframe tbody tr th:only-of-type {\n",
       "        vertical-align: middle;\n",
       "    }\n",
       "\n",
       "    .dataframe tbody tr th {\n",
       "        vertical-align: top;\n",
       "    }\n",
       "\n",
       "    .dataframe thead th {\n",
       "        text-align: right;\n",
       "    }\n",
       "</style>\n",
       "<table border=\"1\" class=\"dataframe\">\n",
       "  <thead>\n",
       "    <tr style=\"text-align: right;\">\n",
       "      <th></th>\n",
       "      <th>name</th>\n",
       "      <th>sector</th>\n",
       "      <th>years_operation</th>\n",
       "      <th>end_year</th>\n",
       "      <th>start_year_cleaned</th>\n",
       "    </tr>\n",
       "  </thead>\n",
       "  <tbody>\n",
       "    <tr>\n",
       "      <th>0</th>\n",
       "      <td>99dresses</td>\n",
       "      <td>Retail Trade</td>\n",
       "      <td>3 (2010-2013)</td>\n",
       "      <td>2013)</td>\n",
       "      <td>2010</td>\n",
       "    </tr>\n",
       "    <tr>\n",
       "      <th>1</th>\n",
       "      <td>Ahalife</td>\n",
       "      <td>Retail Trade</td>\n",
       "      <td>7 (2010-2017)</td>\n",
       "      <td>2017)</td>\n",
       "      <td>2010</td>\n",
       "    </tr>\n",
       "  </tbody>\n",
       "</table>\n",
       "</div>"
      ],
      "text/plain": [
       "        name        sector years_operation end_year start_year_cleaned\n",
       "0  99dresses  Retail Trade   3 (2010-2013)    2013)               2010\n",
       "1    Ahalife  Retail Trade   7 (2010-2017)    2017)               2010"
      ]
     },
     "execution_count": 10,
     "metadata": {},
     "output_type": "execute_result"
    }
   ],
   "source": [
    "startup_failures.head(2)"
   ]
  },
  {
   "cell_type": "code",
   "execution_count": 11,
   "id": "dfa32189-cde5-4ea1-8cf9-3f9eff2887ff",
   "metadata": {},
   "outputs": [],
   "source": [
    "startup_failures.rename(columns={\n",
    "    'start_year_cleaned': 'start_year'}, inplace=True)"
   ]
  },
  {
   "cell_type": "code",
   "execution_count": 12,
   "id": "d7917d70-973e-47d4-8613-7d41abff9d26",
   "metadata": {},
   "outputs": [
    {
     "data": {
      "text/html": [
       "<div>\n",
       "<style scoped>\n",
       "    .dataframe tbody tr th:only-of-type {\n",
       "        vertical-align: middle;\n",
       "    }\n",
       "\n",
       "    .dataframe tbody tr th {\n",
       "        vertical-align: top;\n",
       "    }\n",
       "\n",
       "    .dataframe thead th {\n",
       "        text-align: right;\n",
       "    }\n",
       "</style>\n",
       "<table border=\"1\" class=\"dataframe\">\n",
       "  <thead>\n",
       "    <tr style=\"text-align: right;\">\n",
       "      <th></th>\n",
       "      <th>name</th>\n",
       "      <th>sector</th>\n",
       "      <th>years_operation</th>\n",
       "      <th>end_year</th>\n",
       "      <th>start_year</th>\n",
       "    </tr>\n",
       "  </thead>\n",
       "  <tbody>\n",
       "    <tr>\n",
       "      <th>0</th>\n",
       "      <td>99dresses</td>\n",
       "      <td>Retail Trade</td>\n",
       "      <td>3 (2010-2013)</td>\n",
       "      <td>2013)</td>\n",
       "      <td>2010</td>\n",
       "    </tr>\n",
       "    <tr>\n",
       "      <th>1</th>\n",
       "      <td>Ahalife</td>\n",
       "      <td>Retail Trade</td>\n",
       "      <td>7 (2010-2017)</td>\n",
       "      <td>2017)</td>\n",
       "      <td>2010</td>\n",
       "    </tr>\n",
       "  </tbody>\n",
       "</table>\n",
       "</div>"
      ],
      "text/plain": [
       "        name        sector years_operation end_year start_year\n",
       "0  99dresses  Retail Trade   3 (2010-2013)    2013)       2010\n",
       "1    Ahalife  Retail Trade   7 (2010-2017)    2017)       2010"
      ]
     },
     "execution_count": 12,
     "metadata": {},
     "output_type": "execute_result"
    }
   ],
   "source": [
    "startup_failures.head(2)"
   ]
  },
  {
   "cell_type": "code",
   "execution_count": 14,
   "id": "772e8819-df0e-4412-8aa6-ef09c85a306e",
   "metadata": {},
   "outputs": [],
   "source": [
    "startup_failures['end_year_cleaned'] = startup_failures['end_year'].str.replace(r'[^\\d]', '', regex=True)"
   ]
  },
  {
   "cell_type": "code",
   "execution_count": 15,
   "id": "1fad7dc2-b590-4f76-a3d6-505428b5a249",
   "metadata": {},
   "outputs": [
    {
     "data": {
      "text/html": [
       "<div>\n",
       "<style scoped>\n",
       "    .dataframe tbody tr th:only-of-type {\n",
       "        vertical-align: middle;\n",
       "    }\n",
       "\n",
       "    .dataframe tbody tr th {\n",
       "        vertical-align: top;\n",
       "    }\n",
       "\n",
       "    .dataframe thead th {\n",
       "        text-align: right;\n",
       "    }\n",
       "</style>\n",
       "<table border=\"1\" class=\"dataframe\">\n",
       "  <thead>\n",
       "    <tr style=\"text-align: right;\">\n",
       "      <th></th>\n",
       "      <th>name</th>\n",
       "      <th>sector</th>\n",
       "      <th>years_operation</th>\n",
       "      <th>end_year</th>\n",
       "      <th>start_year</th>\n",
       "      <th>end_year_cleaned</th>\n",
       "    </tr>\n",
       "  </thead>\n",
       "  <tbody>\n",
       "    <tr>\n",
       "      <th>0</th>\n",
       "      <td>99dresses</td>\n",
       "      <td>Retail Trade</td>\n",
       "      <td>3 (2010-2013)</td>\n",
       "      <td>2013)</td>\n",
       "      <td>2010</td>\n",
       "      <td>2013</td>\n",
       "    </tr>\n",
       "    <tr>\n",
       "      <th>1</th>\n",
       "      <td>Ahalife</td>\n",
       "      <td>Retail Trade</td>\n",
       "      <td>7 (2010-2017)</td>\n",
       "      <td>2017)</td>\n",
       "      <td>2010</td>\n",
       "      <td>2017</td>\n",
       "    </tr>\n",
       "  </tbody>\n",
       "</table>\n",
       "</div>"
      ],
      "text/plain": [
       "        name        sector years_operation end_year start_year  \\\n",
       "0  99dresses  Retail Trade   3 (2010-2013)    2013)       2010   \n",
       "1    Ahalife  Retail Trade   7 (2010-2017)    2017)       2010   \n",
       "\n",
       "  end_year_cleaned  \n",
       "0             2013  \n",
       "1             2017  "
      ]
     },
     "execution_count": 15,
     "metadata": {},
     "output_type": "execute_result"
    }
   ],
   "source": [
    "startup_failures.head(2)"
   ]
  },
  {
   "cell_type": "code",
   "execution_count": 16,
   "id": "5b07be75-ad5c-4241-9184-b580813aed29",
   "metadata": {},
   "outputs": [],
   "source": [
    "startup_failures.drop(columns=['end_year'], inplace=True)"
   ]
  },
  {
   "cell_type": "code",
   "execution_count": 17,
   "id": "43630b52-4467-4cd0-8889-e7cbe709ef08",
   "metadata": {},
   "outputs": [
    {
     "data": {
      "text/html": [
       "<div>\n",
       "<style scoped>\n",
       "    .dataframe tbody tr th:only-of-type {\n",
       "        vertical-align: middle;\n",
       "    }\n",
       "\n",
       "    .dataframe tbody tr th {\n",
       "        vertical-align: top;\n",
       "    }\n",
       "\n",
       "    .dataframe thead th {\n",
       "        text-align: right;\n",
       "    }\n",
       "</style>\n",
       "<table border=\"1\" class=\"dataframe\">\n",
       "  <thead>\n",
       "    <tr style=\"text-align: right;\">\n",
       "      <th></th>\n",
       "      <th>name</th>\n",
       "      <th>sector</th>\n",
       "      <th>years_operation</th>\n",
       "      <th>start_year</th>\n",
       "      <th>end_year_cleaned</th>\n",
       "    </tr>\n",
       "  </thead>\n",
       "  <tbody>\n",
       "    <tr>\n",
       "      <th>0</th>\n",
       "      <td>99dresses</td>\n",
       "      <td>Retail Trade</td>\n",
       "      <td>3 (2010-2013)</td>\n",
       "      <td>2010</td>\n",
       "      <td>2013</td>\n",
       "    </tr>\n",
       "    <tr>\n",
       "      <th>1</th>\n",
       "      <td>Ahalife</td>\n",
       "      <td>Retail Trade</td>\n",
       "      <td>7 (2010-2017)</td>\n",
       "      <td>2010</td>\n",
       "      <td>2017</td>\n",
       "    </tr>\n",
       "  </tbody>\n",
       "</table>\n",
       "</div>"
      ],
      "text/plain": [
       "        name        sector years_operation start_year end_year_cleaned\n",
       "0  99dresses  Retail Trade   3 (2010-2013)       2010             2013\n",
       "1    Ahalife  Retail Trade   7 (2010-2017)       2010             2017"
      ]
     },
     "execution_count": 17,
     "metadata": {},
     "output_type": "execute_result"
    }
   ],
   "source": [
    "startup_failures.head(2)"
   ]
  },
  {
   "cell_type": "code",
   "execution_count": 18,
   "id": "584f9a02-a665-40b3-b51a-5b492e2b7508",
   "metadata": {},
   "outputs": [],
   "source": [
    "startup_failures.rename(columns={\n",
    "    'end_year_cleaned': 'end_year'}, inplace=True)"
   ]
  },
  {
   "cell_type": "code",
   "execution_count": 19,
   "id": "cee6f51f-fab0-4f70-9825-f6ef4e61b615",
   "metadata": {},
   "outputs": [
    {
     "data": {
      "text/html": [
       "<div>\n",
       "<style scoped>\n",
       "    .dataframe tbody tr th:only-of-type {\n",
       "        vertical-align: middle;\n",
       "    }\n",
       "\n",
       "    .dataframe tbody tr th {\n",
       "        vertical-align: top;\n",
       "    }\n",
       "\n",
       "    .dataframe thead th {\n",
       "        text-align: right;\n",
       "    }\n",
       "</style>\n",
       "<table border=\"1\" class=\"dataframe\">\n",
       "  <thead>\n",
       "    <tr style=\"text-align: right;\">\n",
       "      <th></th>\n",
       "      <th>name</th>\n",
       "      <th>sector</th>\n",
       "      <th>years_operation</th>\n",
       "      <th>start_year</th>\n",
       "      <th>end_year</th>\n",
       "    </tr>\n",
       "  </thead>\n",
       "  <tbody>\n",
       "    <tr>\n",
       "      <th>0</th>\n",
       "      <td>99dresses</td>\n",
       "      <td>Retail Trade</td>\n",
       "      <td>3 (2010-2013)</td>\n",
       "      <td>2010</td>\n",
       "      <td>2013</td>\n",
       "    </tr>\n",
       "    <tr>\n",
       "      <th>1</th>\n",
       "      <td>Ahalife</td>\n",
       "      <td>Retail Trade</td>\n",
       "      <td>7 (2010-2017)</td>\n",
       "      <td>2010</td>\n",
       "      <td>2017</td>\n",
       "    </tr>\n",
       "  </tbody>\n",
       "</table>\n",
       "</div>"
      ],
      "text/plain": [
       "        name        sector years_operation start_year end_year\n",
       "0  99dresses  Retail Trade   3 (2010-2013)       2010     2013\n",
       "1    Ahalife  Retail Trade   7 (2010-2017)       2010     2017"
      ]
     },
     "execution_count": 19,
     "metadata": {},
     "output_type": "execute_result"
    }
   ],
   "source": [
    "startup_failures.head(2)"
   ]
  },
  {
   "cell_type": "code",
   "execution_count": 20,
   "id": "2795e1d1-4a59-464c-a790-f6a9d5fe8d26",
   "metadata": {},
   "outputs": [],
   "source": [
    "startup_failures['years_operation_cleaned'] = startup_failures['years_operation'].str.replace(r'\\s*\\(.*\\)', '', regex=True)"
   ]
  },
  {
   "cell_type": "code",
   "execution_count": 21,
   "id": "32d77155-0f3a-4564-bf1c-f9444b708c77",
   "metadata": {},
   "outputs": [
    {
     "data": {
      "text/html": [
       "<div>\n",
       "<style scoped>\n",
       "    .dataframe tbody tr th:only-of-type {\n",
       "        vertical-align: middle;\n",
       "    }\n",
       "\n",
       "    .dataframe tbody tr th {\n",
       "        vertical-align: top;\n",
       "    }\n",
       "\n",
       "    .dataframe thead th {\n",
       "        text-align: right;\n",
       "    }\n",
       "</style>\n",
       "<table border=\"1\" class=\"dataframe\">\n",
       "  <thead>\n",
       "    <tr style=\"text-align: right;\">\n",
       "      <th></th>\n",
       "      <th>name</th>\n",
       "      <th>sector</th>\n",
       "      <th>years_operation</th>\n",
       "      <th>start_year</th>\n",
       "      <th>end_year</th>\n",
       "      <th>years_operation_cleaned</th>\n",
       "    </tr>\n",
       "  </thead>\n",
       "  <tbody>\n",
       "    <tr>\n",
       "      <th>0</th>\n",
       "      <td>99dresses</td>\n",
       "      <td>Retail Trade</td>\n",
       "      <td>3 (2010-2013)</td>\n",
       "      <td>2010</td>\n",
       "      <td>2013</td>\n",
       "      <td>3</td>\n",
       "    </tr>\n",
       "    <tr>\n",
       "      <th>1</th>\n",
       "      <td>Ahalife</td>\n",
       "      <td>Retail Trade</td>\n",
       "      <td>7 (2010-2017)</td>\n",
       "      <td>2010</td>\n",
       "      <td>2017</td>\n",
       "      <td>7</td>\n",
       "    </tr>\n",
       "  </tbody>\n",
       "</table>\n",
       "</div>"
      ],
      "text/plain": [
       "        name        sector years_operation start_year end_year  \\\n",
       "0  99dresses  Retail Trade   3 (2010-2013)       2010     2013   \n",
       "1    Ahalife  Retail Trade   7 (2010-2017)       2010     2017   \n",
       "\n",
       "  years_operation_cleaned  \n",
       "0                       3  \n",
       "1                       7  "
      ]
     },
     "execution_count": 21,
     "metadata": {},
     "output_type": "execute_result"
    }
   ],
   "source": [
    "startup_failures.head(2)"
   ]
  },
  {
   "cell_type": "code",
   "execution_count": 22,
   "id": "9575bfd9-78e2-40af-a25f-3dff2fec9c2b",
   "metadata": {},
   "outputs": [],
   "source": [
    "startup_failures.drop(columns=['years_operation'], inplace=True)"
   ]
  },
  {
   "cell_type": "code",
   "execution_count": 23,
   "id": "466d735d-9c93-4de0-b4bd-72a7333f2a31",
   "metadata": {},
   "outputs": [],
   "source": [
    "startup_failures.rename(columns={\n",
    "    'years_opeartion_cleaned': 'years_operation'}, inplace=True)"
   ]
  },
  {
   "cell_type": "code",
   "execution_count": 24,
   "id": "19f93273-62fe-40ac-a0cd-aaa9c23de753",
   "metadata": {},
   "outputs": [
    {
     "data": {
      "text/html": [
       "<div>\n",
       "<style scoped>\n",
       "    .dataframe tbody tr th:only-of-type {\n",
       "        vertical-align: middle;\n",
       "    }\n",
       "\n",
       "    .dataframe tbody tr th {\n",
       "        vertical-align: top;\n",
       "    }\n",
       "\n",
       "    .dataframe thead th {\n",
       "        text-align: right;\n",
       "    }\n",
       "</style>\n",
       "<table border=\"1\" class=\"dataframe\">\n",
       "  <thead>\n",
       "    <tr style=\"text-align: right;\">\n",
       "      <th></th>\n",
       "      <th>name</th>\n",
       "      <th>sector</th>\n",
       "      <th>start_year</th>\n",
       "      <th>end_year</th>\n",
       "      <th>years_operation_cleaned</th>\n",
       "    </tr>\n",
       "  </thead>\n",
       "  <tbody>\n",
       "    <tr>\n",
       "      <th>0</th>\n",
       "      <td>99dresses</td>\n",
       "      <td>Retail Trade</td>\n",
       "      <td>2010</td>\n",
       "      <td>2013</td>\n",
       "      <td>3</td>\n",
       "    </tr>\n",
       "    <tr>\n",
       "      <th>1</th>\n",
       "      <td>Ahalife</td>\n",
       "      <td>Retail Trade</td>\n",
       "      <td>2010</td>\n",
       "      <td>2017</td>\n",
       "      <td>7</td>\n",
       "    </tr>\n",
       "  </tbody>\n",
       "</table>\n",
       "</div>"
      ],
      "text/plain": [
       "        name        sector start_year end_year years_operation_cleaned\n",
       "0  99dresses  Retail Trade       2010     2013                       3\n",
       "1    Ahalife  Retail Trade       2010     2017                       7"
      ]
     },
     "execution_count": 24,
     "metadata": {},
     "output_type": "execute_result"
    }
   ],
   "source": [
    "startup_failures.head(2)"
   ]
  },
  {
   "cell_type": "code",
   "execution_count": 25,
   "id": "17d1aa7e-007a-47c5-ad72-fece62217375",
   "metadata": {},
   "outputs": [
    {
     "name": "stdout",
     "output_type": "stream",
     "text": [
      "DataFrame saved to 'startup_failures.csv'\n"
     ]
    }
   ],
   "source": [
    "startup_failures.to_csv('startup_failures.csv', index=False)\n",
    "print(\"DataFrame saved to 'startup_failures.csv'\")"
   ]
  },
  {
   "cell_type": "code",
   "execution_count": null,
   "id": "fe178bd7-ec5b-45a4-aa0c-c83ebb54cbb4",
   "metadata": {},
   "outputs": [],
   "source": []
  }
 ],
 "metadata": {
  "kernelspec": {
   "display_name": "Python 3 (ipykernel)",
   "language": "python",
   "name": "python3"
  },
  "language_info": {
   "codemirror_mode": {
    "name": "ipython",
    "version": 3
   },
   "file_extension": ".py",
   "mimetype": "text/x-python",
   "name": "python",
   "nbconvert_exporter": "python",
   "pygments_lexer": "ipython3",
   "version": "3.12.7"
  }
 },
 "nbformat": 4,
 "nbformat_minor": 5
}
