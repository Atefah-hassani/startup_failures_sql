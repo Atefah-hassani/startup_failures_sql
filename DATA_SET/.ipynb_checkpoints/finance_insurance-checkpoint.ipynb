{
 "cells": [
  {
   "cell_type": "code",
   "execution_count": 1,
   "id": "ca28c9f6-c10b-42e1-acf0-b37b9c60cb5d",
   "metadata": {},
   "outputs": [],
   "source": [
    "import pandas as pd "
   ]
  },
  {
   "cell_type": "code",
   "execution_count": 2,
   "id": "b9e0fd2b-06e1-4ce5-be1d-0ebcf94458a0",
   "metadata": {},
   "outputs": [],
   "source": [
    "finance_insurance = pd.read_csv(r\"C:\\Users\\Atefah\\Desktop\\IRONHACK\\SQL_PROJECT\\DATA_SET\\Startup Failure (Finance and Insurance).csv\")"
   ]
  },
  {
   "cell_type": "code",
   "execution_count": 3,
   "id": "488ad357-490d-48ee-97ec-dc820d241d14",
   "metadata": {},
   "outputs": [
    {
     "data": {
      "text/plain": [
       "(47, 20)"
      ]
     },
     "execution_count": 3,
     "metadata": {},
     "output_type": "execute_result"
    }
   ],
   "source": [
    "finance_insurance.shape"
   ]
  },
  {
   "cell_type": "code",
   "execution_count": 4,
   "id": "fa1c61a9-794c-4682-8850-54b3be465a92",
   "metadata": {},
   "outputs": [
    {
     "data": {
      "text/html": [
       "<div>\n",
       "<style scoped>\n",
       "    .dataframe tbody tr th:only-of-type {\n",
       "        vertical-align: middle;\n",
       "    }\n",
       "\n",
       "    .dataframe tbody tr th {\n",
       "        vertical-align: top;\n",
       "    }\n",
       "\n",
       "    .dataframe thead th {\n",
       "        text-align: right;\n",
       "    }\n",
       "</style>\n",
       "<table border=\"1\" class=\"dataframe\">\n",
       "  <thead>\n",
       "    <tr style=\"text-align: right;\">\n",
       "      <th></th>\n",
       "      <th>Name</th>\n",
       "      <th>Sector</th>\n",
       "      <th>Years of Operation</th>\n",
       "      <th>What They Did</th>\n",
       "      <th>How Much They Raised</th>\n",
       "      <th>Why They Failed</th>\n",
       "      <th>Takeaway</th>\n",
       "      <th>Giants</th>\n",
       "      <th>No Budget</th>\n",
       "      <th>Competition</th>\n",
       "      <th>Poor Market Fit</th>\n",
       "      <th>Acquisition Stagnation</th>\n",
       "      <th>Platform Dependency</th>\n",
       "      <th>Monetization Failure</th>\n",
       "      <th>Niche Limits</th>\n",
       "      <th>Execution Flaws</th>\n",
       "      <th>Trend Shifts</th>\n",
       "      <th>Toxicity/Trust Issues</th>\n",
       "      <th>Regulatory Pressure</th>\n",
       "      <th>Overhype</th>\n",
       "    </tr>\n",
       "  </thead>\n",
       "  <tbody>\n",
       "    <tr>\n",
       "      <th>0</th>\n",
       "      <td>Avant</td>\n",
       "      <td>Finance and Insurance</td>\n",
       "      <td>2012-2023</td>\n",
       "      <td>Online personal loans</td>\n",
       "      <td>$655M</td>\n",
       "      <td>Lost to LendingClub and high defaults</td>\n",
       "      <td>Lending needs risk balance</td>\n",
       "      <td>1</td>\n",
       "      <td>1</td>\n",
       "      <td>1</td>\n",
       "      <td>0</td>\n",
       "      <td>0</td>\n",
       "      <td>0</td>\n",
       "      <td>0</td>\n",
       "      <td>0</td>\n",
       "      <td>0</td>\n",
       "      <td>0</td>\n",
       "      <td>0</td>\n",
       "      <td>0</td>\n",
       "      <td>0.0</td>\n",
       "    </tr>\n",
       "    <tr>\n",
       "      <th>1</th>\n",
       "      <td>Bitpass</td>\n",
       "      <td>Finance and Insurance</td>\n",
       "      <td>2002-2008</td>\n",
       "      <td>Micropayments platform</td>\n",
       "      <td>$2M</td>\n",
       "      <td>Lost to PayPal and low adoption</td>\n",
       "      <td>Micropayments need mass use</td>\n",
       "      <td>1</td>\n",
       "      <td>0</td>\n",
       "      <td>1</td>\n",
       "      <td>1</td>\n",
       "      <td>0</td>\n",
       "      <td>0</td>\n",
       "      <td>0</td>\n",
       "      <td>0</td>\n",
       "      <td>0</td>\n",
       "      <td>0</td>\n",
       "      <td>0</td>\n",
       "      <td>0</td>\n",
       "      <td>0.0</td>\n",
       "    </tr>\n",
       "  </tbody>\n",
       "</table>\n",
       "</div>"
      ],
      "text/plain": [
       "      Name                 Sector Years of Operation           What They Did  \\\n",
       "0    Avant  Finance and Insurance          2012-2023   Online personal loans   \n",
       "1  Bitpass  Finance and Insurance          2002-2008  Micropayments platform   \n",
       "\n",
       "  How Much They Raised                        Why They Failed  \\\n",
       "0                $655M  Lost to LendingClub and high defaults   \n",
       "1                  $2M        Lost to PayPal and low adoption   \n",
       "\n",
       "                      Takeaway  Giants  No Budget  Competition  \\\n",
       "0   Lending needs risk balance       1          1            1   \n",
       "1  Micropayments need mass use       1          0            1   \n",
       "\n",
       "   Poor Market Fit  Acquisition Stagnation  Platform Dependency  \\\n",
       "0                0                       0                    0   \n",
       "1                1                       0                    0   \n",
       "\n",
       "   Monetization Failure  Niche Limits  Execution Flaws  Trend Shifts  \\\n",
       "0                     0             0                0             0   \n",
       "1                     0             0                0             0   \n",
       "\n",
       "   Toxicity/Trust Issues  Regulatory Pressure  Overhype  \n",
       "0                      0                    0       0.0  \n",
       "1                      0                    0       0.0  "
      ]
     },
     "execution_count": 4,
     "metadata": {},
     "output_type": "execute_result"
    }
   ],
   "source": [
    "finance_insurance.head(2)"
   ]
  },
  {
   "cell_type": "code",
   "execution_count": 5,
   "id": "9020cca1-a03a-47c6-b78b-cb5c55f038f1",
   "metadata": {},
   "outputs": [],
   "source": [
    "finance_insurance.drop(columns=['What They Did', 'Why They Failed', 'Takeaway'], inplace=True)"
   ]
  },
  {
   "cell_type": "code",
   "execution_count": 6,
   "id": "1c62f3eb-25b8-4048-8121-62fc82535783",
   "metadata": {},
   "outputs": [
    {
     "name": "stdout",
     "output_type": "stream",
     "text": [
      "Index(['name', 'sector', 'years_operation', 'amount_raised', 'giants',\n",
      "       'no_budget', 'competition', 'poor_market_fit', 'acquisition_stagnation',\n",
      "       'platform_dependency', 'monetization_failure', 'niche_limits',\n",
      "       'execution_flaws', 'trend_shifts', 'trust_issue', 'regulatory_pressure',\n",
      "       'overhype'],\n",
      "      dtype='object')\n"
     ]
    }
   ],
   "source": [
    "finance_insurance.rename(columns={\n",
    "    'Name': 'name',\n",
    "    'Sector': 'sector',\n",
    "    'Years of Operation': 'years_operation',\n",
    "    'How Much They Raised': 'amount_raised',\n",
    "    'Giants': 'giants',\n",
    "    'No Budget': 'no_budget',\n",
    "    'Competition': 'competition',\n",
    "    'Poor Market Fit': 'poor_market_fit',\n",
    "    'Acquisition Stagnation': 'acquisition_stagnation',\n",
    "    'Platform Dependency': 'platform_dependency',\n",
    "    'Monetization Failure': 'monetization_failure',\n",
    "    'Niche Limits': 'niche_limits',\n",
    "    'Execution Flaws': 'execution_flaws',\n",
    "    'Trend Shifts': 'trend_shifts',\n",
    "    'Toxicity/Trust Issues': 'trust_issue',\n",
    "    'Regulatory Pressure': 'regulatory_pressure',\n",
    "    'Overhype': 'overhype'\n",
    "}, inplace=True)\n",
    "\n",
    "print(finance_insurance.columns)"
   ]
  },
  {
   "cell_type": "code",
   "execution_count": 7,
   "id": "10e38331-b1ec-4ccd-97ac-997bb4e3a170",
   "metadata": {},
   "outputs": [],
   "source": [
    "# Ensure the column is a string and split it by '-'\n",
    "finance_insurance[['start_year', 'end_year']] = finance_insurance['years_operation'].str.split('-', expand=True)"
   ]
  },
  {
   "cell_type": "code",
   "execution_count": 10,
   "id": "2bea24dc-9d03-4455-a4ef-33808eb6663c",
   "metadata": {},
   "outputs": [
    {
     "data": {
      "text/plain": [
       "Index(['name', 'sector', 'years_operation', 'What They Did', 'amount_raised',\n",
       "       'Why They Failed', 'Takeaway', 'giants', 'no_budget', 'competition',\n",
       "       'poor_market_fit', 'acquisition_stagnation', 'platform_dependency',\n",
       "       'monetization_failure', 'niche_limits', 'execution_flaws',\n",
       "       'trend_shifts', 'trust_issue', 'regulatory_pressure', 'overhype',\n",
       "       'start_year', 'end_year'],\n",
       "      dtype='object')"
      ]
     },
     "execution_count": 10,
     "metadata": {},
     "output_type": "execute_result"
    }
   ],
   "source": [
    "finance_insurance.columns"
   ]
  },
  {
   "cell_type": "code",
   "execution_count": 8,
   "id": "e39429b5-4248-44bf-8781-05906d96cb34",
   "metadata": {},
   "outputs": [],
   "source": [
    "finance_insurance = finance_insurance.drop(columns=['years_operation'])"
   ]
  },
  {
   "cell_type": "code",
   "execution_count": 9,
   "id": "240e6f77-49a6-4719-82f4-f8e9bade4881",
   "metadata": {},
   "outputs": [],
   "source": [
    "finance_insurance['amount_raised_cleaned'] = finance_insurance['amount_raised'].astype(str).str.replace(r'[^\\d.]', '', regex=True)\n",
    "finance_insurance['amount_raised_cleaned'] = pd.to_numeric(finance_insurance['amount_raised_cleaned'], errors='coerce')\n"
   ]
  },
  {
   "cell_type": "code",
   "execution_count": 10,
   "id": "e95f76d7-ac8f-4b7c-abe1-50862f6ac636",
   "metadata": {},
   "outputs": [],
   "source": [
    "finance_insurance = finance_insurance.drop(columns=['amount_raised'])"
   ]
  },
  {
   "cell_type": "code",
   "execution_count": 20,
   "id": "e6c51bf8-0faa-469c-85ae-7f31735242f3",
   "metadata": {},
   "outputs": [],
   "source": [
    "finance_insurance= finance_insurance.rename(columns={'amount_raised_cleaned': 'amount_raised'})"
   ]
  },
  {
   "cell_type": "code",
   "execution_count": 11,
   "id": "22a966ae-1bbb-46a0-858d-0de5be90f5d8",
   "metadata": {},
   "outputs": [
    {
     "data": {
      "text/html": [
       "<div>\n",
       "<style scoped>\n",
       "    .dataframe tbody tr th:only-of-type {\n",
       "        vertical-align: middle;\n",
       "    }\n",
       "\n",
       "    .dataframe tbody tr th {\n",
       "        vertical-align: top;\n",
       "    }\n",
       "\n",
       "    .dataframe thead th {\n",
       "        text-align: right;\n",
       "    }\n",
       "</style>\n",
       "<table border=\"1\" class=\"dataframe\">\n",
       "  <thead>\n",
       "    <tr style=\"text-align: right;\">\n",
       "      <th></th>\n",
       "      <th>name</th>\n",
       "      <th>sector</th>\n",
       "      <th>giants</th>\n",
       "      <th>no_budget</th>\n",
       "      <th>competition</th>\n",
       "      <th>poor_market_fit</th>\n",
       "      <th>acquisition_stagnation</th>\n",
       "      <th>platform_dependency</th>\n",
       "      <th>monetization_failure</th>\n",
       "      <th>niche_limits</th>\n",
       "      <th>execution_flaws</th>\n",
       "      <th>trend_shifts</th>\n",
       "      <th>trust_issue</th>\n",
       "      <th>regulatory_pressure</th>\n",
       "      <th>overhype</th>\n",
       "      <th>start_year</th>\n",
       "      <th>end_year</th>\n",
       "      <th>amount_raised_cleaned</th>\n",
       "    </tr>\n",
       "  </thead>\n",
       "  <tbody>\n",
       "    <tr>\n",
       "      <th>0</th>\n",
       "      <td>Avant</td>\n",
       "      <td>Finance and Insurance</td>\n",
       "      <td>1</td>\n",
       "      <td>1</td>\n",
       "      <td>1</td>\n",
       "      <td>0</td>\n",
       "      <td>0</td>\n",
       "      <td>0</td>\n",
       "      <td>0</td>\n",
       "      <td>0</td>\n",
       "      <td>0</td>\n",
       "      <td>0</td>\n",
       "      <td>0</td>\n",
       "      <td>0</td>\n",
       "      <td>0.0</td>\n",
       "      <td>2012</td>\n",
       "      <td>2023</td>\n",
       "      <td>655.0</td>\n",
       "    </tr>\n",
       "    <tr>\n",
       "      <th>1</th>\n",
       "      <td>Bitpass</td>\n",
       "      <td>Finance and Insurance</td>\n",
       "      <td>1</td>\n",
       "      <td>0</td>\n",
       "      <td>1</td>\n",
       "      <td>1</td>\n",
       "      <td>0</td>\n",
       "      <td>0</td>\n",
       "      <td>0</td>\n",
       "      <td>0</td>\n",
       "      <td>0</td>\n",
       "      <td>0</td>\n",
       "      <td>0</td>\n",
       "      <td>0</td>\n",
       "      <td>0.0</td>\n",
       "      <td>2002</td>\n",
       "      <td>2008</td>\n",
       "      <td>2.0</td>\n",
       "    </tr>\n",
       "    <tr>\n",
       "      <th>2</th>\n",
       "      <td>Cake Financial</td>\n",
       "      <td>Finance and Insurance</td>\n",
       "      <td>1</td>\n",
       "      <td>0</td>\n",
       "      <td>1</td>\n",
       "      <td>0</td>\n",
       "      <td>1</td>\n",
       "      <td>0</td>\n",
       "      <td>0</td>\n",
       "      <td>0</td>\n",
       "      <td>0</td>\n",
       "      <td>0</td>\n",
       "      <td>0</td>\n",
       "      <td>0</td>\n",
       "      <td>0.0</td>\n",
       "      <td>2006</td>\n",
       "      <td>2011</td>\n",
       "      <td>3.0</td>\n",
       "    </tr>\n",
       "    <tr>\n",
       "      <th>3</th>\n",
       "      <td>Circle</td>\n",
       "      <td>Finance and Insurance</td>\n",
       "      <td>1</td>\n",
       "      <td>0</td>\n",
       "      <td>1</td>\n",
       "      <td>0</td>\n",
       "      <td>0</td>\n",
       "      <td>0</td>\n",
       "      <td>0</td>\n",
       "      <td>0</td>\n",
       "      <td>0</td>\n",
       "      <td>1</td>\n",
       "      <td>0</td>\n",
       "      <td>0</td>\n",
       "      <td>0.0</td>\n",
       "      <td>2013</td>\n",
       "      <td>2023</td>\n",
       "      <td>500.0</td>\n",
       "    </tr>\n",
       "  </tbody>\n",
       "</table>\n",
       "</div>"
      ],
      "text/plain": [
       "             name                 sector  giants  no_budget  competition  \\\n",
       "0           Avant  Finance and Insurance       1          1            1   \n",
       "1         Bitpass  Finance and Insurance       1          0            1   \n",
       "2  Cake Financial  Finance and Insurance       1          0            1   \n",
       "3          Circle  Finance and Insurance       1          0            1   \n",
       "\n",
       "   poor_market_fit  acquisition_stagnation  platform_dependency  \\\n",
       "0                0                       0                    0   \n",
       "1                1                       0                    0   \n",
       "2                0                       1                    0   \n",
       "3                0                       0                    0   \n",
       "\n",
       "   monetization_failure  niche_limits  execution_flaws  trend_shifts  \\\n",
       "0                     0             0                0             0   \n",
       "1                     0             0                0             0   \n",
       "2                     0             0                0             0   \n",
       "3                     0             0                0             1   \n",
       "\n",
       "   trust_issue  regulatory_pressure  overhype start_year end_year  \\\n",
       "0            0                    0       0.0       2012     2023   \n",
       "1            0                    0       0.0       2002     2008   \n",
       "2            0                    0       0.0       2006     2011   \n",
       "3            0                    0       0.0       2013     2023   \n",
       "\n",
       "   amount_raised_cleaned  \n",
       "0                  655.0  \n",
       "1                    2.0  \n",
       "2                    3.0  \n",
       "3                  500.0  "
      ]
     },
     "execution_count": 11,
     "metadata": {},
     "output_type": "execute_result"
    }
   ],
   "source": [
    "finance_insurance.head(4)"
   ]
  },
  {
   "cell_type": "code",
   "execution_count": 13,
   "id": "9a784abe-f646-4a7d-bb27-80be51f50804",
   "metadata": {},
   "outputs": [
    {
     "name": "stdout",
     "output_type": "stream",
     "text": [
      "DataFrame saved to 'finance_insurance.csv'\n"
     ]
    }
   ],
   "source": [
    "finance_insurance.to_csv('finance_insurance.csv', index=False)\n",
    "print(\"DataFrame saved to 'finance_insurance.csv'\")"
   ]
  },
  {
   "cell_type": "code",
   "execution_count": null,
   "id": "f74fdf67-936a-4e60-bc72-e63d2c8ca310",
   "metadata": {},
   "outputs": [],
   "source": []
  }
 ],
 "metadata": {
  "kernelspec": {
   "display_name": "Python 3 (ipykernel)",
   "language": "python",
   "name": "python3"
  },
  "language_info": {
   "codemirror_mode": {
    "name": "ipython",
    "version": 3
   },
   "file_extension": ".py",
   "mimetype": "text/x-python",
   "name": "python",
   "nbconvert_exporter": "python",
   "pygments_lexer": "ipython3",
   "version": "3.12.7"
  }
 },
 "nbformat": 4,
 "nbformat_minor": 5
}
